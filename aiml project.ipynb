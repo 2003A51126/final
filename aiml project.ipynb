{
  "nbformat": 4,
  "nbformat_minor": 0,
  "metadata": {
    "colab": {
      "name": "assignment3.ipynb",
      "provenance": [],
      "collapsed_sections": []
    },
    "kernelspec": {
      "name": "python3",
      "display_name": "Python 3"
    },
    "language_info": {
      "name": "python"
    }
  },
  "cells": [
    {
      "cell_type": "code",
      "execution_count": 8,
      "metadata": {
        "id": "YXVonduMNh8w",
        "colab": {
          "base_uri": "https://localhost:8080/"
        },
        "outputId": "9ad1b00a-8af6-449f-9f52-446248ea4fbd"
      },
      "outputs": [
        {
          "output_type": "stream",
          "name": "stdout",
          "text": [
            "Drive already mounted at /content/drive; to attempt to forcibly remount, call drive.mount(\"/content/drive\", force_remount=True).\n"
          ]
        }
      ],
      "source": [
        "from google.colab import drive\n",
        "drive.mount('/content/drive') \n"
      ]
    },
    {
      "cell_type": "code",
      "source": [
        "import pandas as pd\n",
        "import numpy as np\n",
        "import matplotlib.pyplot as plt\n",
        "import math"
      ],
      "metadata": {
        "id": "YkkXoiEUOZLW"
      },
      "execution_count": 9,
      "outputs": []
    },
    {
      "cell_type": "code",
      "source": [
        "d=pd.read_csv('/content/drive/MyDrive/pizza example.csv')"
      ],
      "metadata": {
        "id": "DhayIJwZOhYF"
      },
      "execution_count": 10,
      "outputs": []
    },
    {
      "cell_type": "code",
      "source": [
        "x=d.iloc[:,0:3]\n",
        "y=d.iloc[:,6:7]"
      ],
      "metadata": {
        "id": "sgluyjuJOoRS"
      },
      "execution_count": 57,
      "outputs": []
    },
    {
      "cell_type": "code",
      "source": [
        "from sklearn.model_selection import train_test_split\n",
        "x_train,x_test,y_train,y_test=train_test_split(x,y,test_size=0.2,random_state=20)"
      ],
      "metadata": {
        "id": "ks7dmwfhOsPO"
      },
      "execution_count": 79,
      "outputs": []
    },
    {
      "cell_type": "code",
      "source": [
        "print(x_train)"
      ],
      "metadata": {
        "colab": {
          "base_uri": "https://localhost:8080/"
        },
        "id": "TDFx6Ls6Owkn",
        "outputId": "38729575-26d7-453e-ce5c-af3e6ed1d32e"
      },
      "execution_count": 80,
      "outputs": [
        {
          "output_type": "stream",
          "name": "stdout",
          "text": [
            "    city  menus.amountMax  menus.amountMin\n",
            "39     1            21.50            14.00\n",
            "66     2            19.95            19.95\n",
            "86     2            11.95            11.95\n",
            "1      1            13.00            13.00\n",
            "23     1            22.50            19.50\n",
            "..   ...              ...              ...\n",
            "75     2            12.95            12.95\n",
            "20     1             0.00             0.00\n",
            "9      1             5.99             5.99\n",
            "28     1            21.99            16.99\n",
            "15     1            20.99            16.50\n",
            "\n",
            "[70 rows x 3 columns]\n"
          ]
        }
      ]
    },
    {
      "cell_type": "code",
      "source": [
        "print(x_test)"
      ],
      "metadata": {
        "colab": {
          "base_uri": "https://localhost:8080/"
        },
        "id": "RxY_7goRO03O",
        "outputId": "443fb01e-99b4-483a-a76e-aab59daa2f8b"
      },
      "execution_count": 81,
      "outputs": [
        {
          "output_type": "stream",
          "name": "stdout",
          "text": [
            "    city  menus.amountMax  menus.amountMin\n",
            "50     1            13.00            13.00\n",
            "2      1            13.00            13.00\n",
            "12     1            18.00            18.00\n",
            "44     1            20.99            15.99\n",
            "85     2            14.95            14.95\n",
            "65     2            22.95            22.95\n",
            "31     1            21.00            17.50\n",
            "21     1            21.99            16.50\n",
            "69     2            19.95            19.95\n",
            "5      1            10.99             7.99\n",
            "70     2            15.95            15.95\n",
            "54     1            13.00            13.00\n",
            "38     1             0.00             0.00\n",
            "0      1            12.00            12.00\n",
            "42     1            21.50            16.50\n",
            "84     2            14.95            14.95\n",
            "41     1            20.99            15.99\n",
            "35     1             0.00             0.00\n"
          ]
        }
      ]
    },
    {
      "cell_type": "code",
      "source": [
        "print(y_train)"
      ],
      "metadata": {
        "colab": {
          "base_uri": "https://localhost:8080/"
        },
        "id": "GYyXluLXO46q",
        "outputId": "f97bdacb-27cc-4b53-b809-27a6c717af5c"
      },
      "execution_count": 82,
      "outputs": [
        {
          "output_type": "stream",
          "name": "stdout",
          "text": [
            "    priceRangeMin\n",
            "39              0\n",
            "66              0\n",
            "86             50\n",
            "1              50\n",
            "23              0\n",
            "..            ...\n",
            "75             75\n",
            "20              0\n",
            "9               0\n",
            "28              0\n",
            "15              0\n",
            "\n",
            "[70 rows x 1 columns]\n"
          ]
        }
      ]
    },
    {
      "cell_type": "code",
      "source": [
        "print(y_test)"
      ],
      "metadata": {
        "colab": {
          "base_uri": "https://localhost:8080/"
        },
        "id": "zmaH6XVoPBbw",
        "outputId": "e32d14be-2750-46cc-cea0-5932f3ba92da"
      },
      "execution_count": 83,
      "outputs": [
        {
          "output_type": "stream",
          "name": "stdout",
          "text": [
            "    priceRangeMin\n",
            "50             25\n",
            "2              50\n",
            "12              0\n",
            "44              0\n",
            "85             20\n",
            "65              0\n",
            "31              0\n",
            "21              0\n",
            "69              0\n",
            "5               0\n",
            "70              0\n",
            "54             25\n",
            "38              0\n",
            "0              50\n",
            "42              0\n",
            "84              0\n",
            "41              0\n",
            "35              0\n"
          ]
        }
      ]
    },
    {
      "cell_type": "code",
      "source": [
        "from sklearn.tree import DecisionTreeClassifier\n",
        "from sklearn.metrics import accuracy_score"
      ],
      "metadata": {
        "id": "eIxCPV-OPC4O"
      },
      "execution_count": 84,
      "outputs": []
    },
    {
      "cell_type": "code",
      "source": [
        "dt=DecisionTreeClassifier()\n",
        "cc=dt.fit(x_train,y_train)"
      ],
      "metadata": {
        "id": "k4Bg8MFGPHi6"
      },
      "execution_count": 93,
      "outputs": []
    },
    {
      "cell_type": "code",
      "source": [
        "  from sklearn import tree\n",
        "  tree.plot_tree(cc)"
      ],
      "metadata": {
        "colab": {
          "base_uri": "https://localhost:8080/",
          "height": 647
        },
        "id": "m6Q6-4-SPjvk",
        "outputId": "cb6ccdcb-4ef9-4591-bb44-84b3989252e5"
      },
      "execution_count": 94,
      "outputs": [
        {
          "output_type": "execute_result",
          "data": {
            "text/plain": [
              "[Text(0.5833333333333334, 0.9166666666666666, 'X[1] <= 15.475\\ngini = 0.347\\nsamples = 70\\nvalue = [56, 5, 1, 6, 1, 1]'),\n",
              " Text(0.3, 0.75, 'X[2] <= 8.495\\ngini = 0.571\\nsamples = 30\\nvalue = [18, 5, 0, 6, 1, 0]'),\n",
              " Text(0.13333333333333333, 0.5833333333333334, 'X[0] <= 1.5\\ngini = 0.117\\nsamples = 16\\nvalue = [15, 0, 0, 1, 0, 0]'),\n",
              " Text(0.06666666666666667, 0.4166666666666667, 'gini = 0.0\\nsamples = 13\\nvalue = [13, 0, 0, 0, 0, 0]'),\n",
              " Text(0.2, 0.4166666666666667, 'X[2] <= 3.125\\ngini = 0.444\\nsamples = 3\\nvalue = [2, 0, 0, 1, 0, 0]'),\n",
              " Text(0.13333333333333333, 0.25, 'gini = 0.0\\nsamples = 1\\nvalue = [0, 0, 0, 1, 0, 0]'),\n",
              " Text(0.26666666666666666, 0.25, 'gini = 0.0\\nsamples = 2\\nvalue = [2, 0, 0, 0, 0, 0]'),\n",
              " Text(0.4666666666666667, 0.5833333333333334, 'X[2] <= 11.475\\ngini = 0.694\\nsamples = 14\\nvalue = [3, 5, 0, 5, 1, 0]'),\n",
              " Text(0.4, 0.4166666666666667, 'gini = 0.0\\nsamples = 4\\nvalue = [0, 4, 0, 0, 0, 0]'),\n",
              " Text(0.5333333333333333, 0.4166666666666667, 'X[2] <= 12.975\\ngini = 0.64\\nsamples = 10\\nvalue = [3, 1, 0, 5, 1, 0]'),\n",
              " Text(0.4, 0.25, 'X[2] <= 12.45\\ngini = 0.611\\nsamples = 6\\nvalue = [3, 0, 0, 2, 1, 0]'),\n",
              " Text(0.3333333333333333, 0.08333333333333333, 'gini = 0.5\\nsamples = 4\\nvalue = [2, 0, 0, 2, 0, 0]'),\n",
              " Text(0.4666666666666667, 0.08333333333333333, 'gini = 0.5\\nsamples = 2\\nvalue = [1, 0, 0, 0, 1, 0]'),\n",
              " Text(0.6666666666666666, 0.25, 'X[1] <= 14.0\\ngini = 0.375\\nsamples = 4\\nvalue = [0, 1, 0, 3, 0, 0]'),\n",
              " Text(0.6, 0.08333333333333333, 'gini = 0.5\\nsamples = 2\\nvalue = [0, 1, 0, 1, 0, 0]'),\n",
              " Text(0.7333333333333333, 0.08333333333333333, 'gini = 0.0\\nsamples = 2\\nvalue = [0, 0, 0, 2, 0, 0]'),\n",
              " Text(0.8666666666666667, 0.75, 'X[2] <= 22.475\\ngini = 0.096\\nsamples = 40\\nvalue = [38, 0, 1, 0, 0, 1]'),\n",
              " Text(0.8, 0.5833333333333334, 'X[2] <= 19.725\\ngini = 0.05\\nsamples = 39\\nvalue = [38, 0, 0, 0, 0, 1]'),\n",
              " Text(0.7333333333333333, 0.4166666666666667, 'gini = 0.0\\nsamples = 29\\nvalue = [29, 0, 0, 0, 0, 0]'),\n",
              " Text(0.8666666666666667, 0.4166666666666667, 'X[2] <= 19.97\\ngini = 0.18\\nsamples = 10\\nvalue = [9, 0, 0, 0, 0, 1]'),\n",
              " Text(0.8, 0.25, 'gini = 0.219\\nsamples = 8\\nvalue = [7, 0, 0, 0, 0, 1]'),\n",
              " Text(0.9333333333333333, 0.25, 'gini = 0.0\\nsamples = 2\\nvalue = [2, 0, 0, 0, 0, 0]'),\n",
              " Text(0.9333333333333333, 0.5833333333333334, 'gini = 0.0\\nsamples = 1\\nvalue = [0, 0, 1, 0, 0, 0]')]"
            ]
          },
          "metadata": {},
          "execution_count": 94
        },
        {
          "output_type": "display_data",
          "data": {
            "text/plain": [
              "<Figure size 432x288 with 1 Axes>"
            ],
            "image/png": "[encoded data removed]"
          },
          "metadata": {
            "needs_background": "light"
          }
        }
      ]
    },
    {
      "cell_type": "code",
      "source": [
        "yt=cc.predict(x_test)\n",
        "print(accuracy_score(yt,y_test))"
      ],
      "metadata": {
        "colab": {
          "base_uri": "https://localhost:8080/"
        },
        "id": "MuVWOYAP9ARo",
        "outputId": "91034e28-2d6f-4260-bae4-ac84923c0b90"
      },
      "execution_count": 96,
      "outputs": [
        {
          "output_type": "stream",
          "name": "stdout",
          "text": [
            "0.7222222222222222\n"
          ]
        }
      ]
    },
    {
      "cell_type": "code",
      "source": [
        "from sklearn.svm import SVR\n"
      ],
      "metadata": {
        "id": "NifLOPgeN0y8"
      },
      "execution_count": 107,
      "outputs": []
    },
    {
      "cell_type": "code",
      "source": [
        "#support vector machine\n",
        "from sklearn import svm\n",
        "from sklearn.metrics import accuracy_score\n",
        "cc=svm.SVC(kernel='linear')\n",
        "\n",
        "cl=cc.fit(x_train,y_train)\n",
        "yp=cl.predict(x_test)\n",
        "print(yp)"
      ],
      "metadata": {
        "colab": {
          "base_uri": "https://localhost:8080/"
        },
        "id": "J3-JFawK8aKl",
        "outputId": "31eed83a-1a77-47e0-dd9a-f42d6545b731"
      },
      "execution_count": 126,
      "outputs": [
        {
          "output_type": "stream",
          "name": "stdout",
          "text": [
            "[ 0  0  0  0  0 45  0  0  0  0  0  0  0  0  0  0  0  0]\n"
          ]
        },
        {
          "output_type": "stream",
          "name": "stderr",
          "text": [
            "/usr/local/lib/python3.7/dist-packages/sklearn/utils/validation.py:993: DataConversionWarning: A column-vector y was passed when a 1d array was expected. Please change the shape of y to (n_samples, ), for example using ravel().\n",
            "  y = column_or_1d(y, warn=True)\n"
          ]
        }
      ]
    },
    {
      "cell_type": "code",
      "source": [
        "print(accuracy_score(y_test,yp))"
      ],
      "metadata": {
        "colab": {
          "base_uri": "https://localhost:8080/"
        },
        "id": "Vf08jtKqDif_",
        "outputId": "638c60bd-dbb8-4f38-e925-fb730c4e75ac"
      },
      "execution_count": 127,
      "outputs": [
        {
          "output_type": "stream",
          "name": "stdout",
          "text": [
            "0.6666666666666666\n"
          ]
        }
      ]
    }
  ]
}